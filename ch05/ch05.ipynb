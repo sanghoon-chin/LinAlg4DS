{
 "cells": [
  {
   "cell_type": "code",
   "execution_count": 2,
   "metadata": {},
   "outputs": [],
   "source": [
    "import numpy as np\n",
    "import matplotlib.pyplot as plt\n",
    "import scipy"
   ]
  },
  {
   "cell_type": "code",
   "execution_count": 9,
   "metadata": {},
   "outputs": [
    {
     "name": "stdout",
     "output_type": "stream",
     "text": [
      "[[0.70710678]\n",
      " [0.70710678]]\n",
      "[]\n",
      "3.1622776601683795\n",
      "0.7071067811865475\n"
     ]
    }
   ],
   "source": [
    "A = np.array([[1, -1], [-2, 2]])\n",
    "B = np.array([[1, -1], [-2, 3]])\n",
    "\n",
    "print(scipy.linalg.null_space(A)) # 단위벡터 반환.\n",
    "print(scipy.linalg.null_space(B))\n",
    "\n",
    "print(scipy.linalg.norm(A))\n",
    "print(1/2**0.5)"
   ]
  },
  {
   "cell_type": "code",
   "execution_count": null,
   "metadata": {},
   "outputs": [],
   "source": []
  }
 ],
 "metadata": {
  "kernelspec": {
   "display_name": "base",
   "language": "python",
   "name": "python3"
  },
  "language_info": {
   "codemirror_mode": {
    "name": "ipython",
    "version": 3
   },
   "file_extension": ".py",
   "mimetype": "text/x-python",
   "name": "python",
   "nbconvert_exporter": "python",
   "pygments_lexer": "ipython3",
   "version": "3.8.18"
  }
 },
 "nbformat": 4,
 "nbformat_minor": 2
}
